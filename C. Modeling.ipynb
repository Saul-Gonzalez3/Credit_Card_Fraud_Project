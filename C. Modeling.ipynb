{
 "cells": [
  {
   "cell_type": "markdown",
   "id": "32315063-b4a0-4a4e-86ee-6e7bed22f17c",
   "metadata": {
    "tags": []
   },
   "source": [
    "<b><h1>Linear Modeling"
   ]
  },
  {
   "cell_type": "code",
   "execution_count": 1,
   "id": "a18772cc-1c62-438a-a35e-e56c6c210658",
   "metadata": {
    "tags": []
   },
   "outputs": [],
   "source": [
    "#imports\n",
    "import env\n",
    "import modeling as ml\n",
    "import pandas as pd\n",
    "import numpy as np\n",
    "import wrangle as wr"
   ]
  },
  {
   "cell_type": "code",
   "execution_count": 2,
   "id": "645ef41f-1394-4e76-8b1f-8e6d055958a3",
   "metadata": {
    "tags": []
   },
   "outputs": [
    {
     "data": {
      "text/html": [
       "<div>\n",
       "<style scoped>\n",
       "    .dataframe tbody tr th:only-of-type {\n",
       "        vertical-align: middle;\n",
       "    }\n",
       "\n",
       "    .dataframe tbody tr th {\n",
       "        vertical-align: top;\n",
       "    }\n",
       "\n",
       "    .dataframe thead th {\n",
       "        text-align: right;\n",
       "    }\n",
       "</style>\n",
       "<table border=\"1\" class=\"dataframe\">\n",
       "  <thead>\n",
       "    <tr style=\"text-align: right;\">\n",
       "      <th></th>\n",
       "      <th>fraud_bool</th>\n",
       "      <th>income</th>\n",
       "      <th>name_email_similarity</th>\n",
       "      <th>prev_address_months_count</th>\n",
       "      <th>current_address_months_count</th>\n",
       "      <th>customer_age</th>\n",
       "      <th>days_since_request</th>\n",
       "      <th>intended_balcon_amount</th>\n",
       "      <th>payment_type</th>\n",
       "      <th>zip_count_4w</th>\n",
       "      <th>...</th>\n",
       "      <th>has_other_cards</th>\n",
       "      <th>proposed_credit_limit</th>\n",
       "      <th>foreign_request</th>\n",
       "      <th>source</th>\n",
       "      <th>session_length_in_minutes</th>\n",
       "      <th>device_os</th>\n",
       "      <th>keep_alive_session</th>\n",
       "      <th>device_distinct_emails_8w</th>\n",
       "      <th>device_fraud_count</th>\n",
       "      <th>month</th>\n",
       "    </tr>\n",
       "  </thead>\n",
       "  <tbody>\n",
       "    <tr>\n",
       "      <th>0</th>\n",
       "      <td>0</td>\n",
       "      <td>0.3</td>\n",
       "      <td>0.986506</td>\n",
       "      <td>-1</td>\n",
       "      <td>25</td>\n",
       "      <td>40</td>\n",
       "      <td>0.006735</td>\n",
       "      <td>102.453711</td>\n",
       "      <td>AA</td>\n",
       "      <td>1059</td>\n",
       "      <td>...</td>\n",
       "      <td>0</td>\n",
       "      <td>1500.0</td>\n",
       "      <td>0</td>\n",
       "      <td>INTERNET</td>\n",
       "      <td>16.224843</td>\n",
       "      <td>linux</td>\n",
       "      <td>1</td>\n",
       "      <td>1</td>\n",
       "      <td>0</td>\n",
       "      <td>0</td>\n",
       "    </tr>\n",
       "    <tr>\n",
       "      <th>1</th>\n",
       "      <td>0</td>\n",
       "      <td>0.8</td>\n",
       "      <td>0.617426</td>\n",
       "      <td>-1</td>\n",
       "      <td>89</td>\n",
       "      <td>20</td>\n",
       "      <td>0.010095</td>\n",
       "      <td>-0.849551</td>\n",
       "      <td>AD</td>\n",
       "      <td>1658</td>\n",
       "      <td>...</td>\n",
       "      <td>0</td>\n",
       "      <td>1500.0</td>\n",
       "      <td>0</td>\n",
       "      <td>INTERNET</td>\n",
       "      <td>3.363854</td>\n",
       "      <td>other</td>\n",
       "      <td>1</td>\n",
       "      <td>1</td>\n",
       "      <td>0</td>\n",
       "      <td>0</td>\n",
       "    </tr>\n",
       "    <tr>\n",
       "      <th>2</th>\n",
       "      <td>0</td>\n",
       "      <td>0.8</td>\n",
       "      <td>0.996707</td>\n",
       "      <td>9</td>\n",
       "      <td>14</td>\n",
       "      <td>40</td>\n",
       "      <td>0.012316</td>\n",
       "      <td>-1.490386</td>\n",
       "      <td>AB</td>\n",
       "      <td>1095</td>\n",
       "      <td>...</td>\n",
       "      <td>0</td>\n",
       "      <td>200.0</td>\n",
       "      <td>0</td>\n",
       "      <td>INTERNET</td>\n",
       "      <td>22.730559</td>\n",
       "      <td>windows</td>\n",
       "      <td>0</td>\n",
       "      <td>1</td>\n",
       "      <td>0</td>\n",
       "      <td>0</td>\n",
       "    </tr>\n",
       "    <tr>\n",
       "      <th>3</th>\n",
       "      <td>0</td>\n",
       "      <td>0.6</td>\n",
       "      <td>0.475100</td>\n",
       "      <td>11</td>\n",
       "      <td>14</td>\n",
       "      <td>30</td>\n",
       "      <td>0.006991</td>\n",
       "      <td>-1.863101</td>\n",
       "      <td>AB</td>\n",
       "      <td>3483</td>\n",
       "      <td>...</td>\n",
       "      <td>0</td>\n",
       "      <td>200.0</td>\n",
       "      <td>0</td>\n",
       "      <td>INTERNET</td>\n",
       "      <td>15.215816</td>\n",
       "      <td>linux</td>\n",
       "      <td>1</td>\n",
       "      <td>1</td>\n",
       "      <td>0</td>\n",
       "      <td>0</td>\n",
       "    </tr>\n",
       "    <tr>\n",
       "      <th>4</th>\n",
       "      <td>0</td>\n",
       "      <td>0.9</td>\n",
       "      <td>0.842307</td>\n",
       "      <td>-1</td>\n",
       "      <td>29</td>\n",
       "      <td>40</td>\n",
       "      <td>5.742626</td>\n",
       "      <td>47.152498</td>\n",
       "      <td>AA</td>\n",
       "      <td>2339</td>\n",
       "      <td>...</td>\n",
       "      <td>0</td>\n",
       "      <td>200.0</td>\n",
       "      <td>0</td>\n",
       "      <td>INTERNET</td>\n",
       "      <td>3.743048</td>\n",
       "      <td>other</td>\n",
       "      <td>0</td>\n",
       "      <td>1</td>\n",
       "      <td>0</td>\n",
       "      <td>0</td>\n",
       "    </tr>\n",
       "  </tbody>\n",
       "</table>\n",
       "<p>5 rows × 32 columns</p>\n",
       "</div>"
      ],
      "text/plain": [
       "   fraud_bool  income  name_email_similarity  prev_address_months_count  \\\n",
       "0           0     0.3               0.986506                         -1   \n",
       "1           0     0.8               0.617426                         -1   \n",
       "2           0     0.8               0.996707                          9   \n",
       "3           0     0.6               0.475100                         11   \n",
       "4           0     0.9               0.842307                         -1   \n",
       "\n",
       "   current_address_months_count  customer_age  days_since_request  \\\n",
       "0                            25            40            0.006735   \n",
       "1                            89            20            0.010095   \n",
       "2                            14            40            0.012316   \n",
       "3                            14            30            0.006991   \n",
       "4                            29            40            5.742626   \n",
       "\n",
       "   intended_balcon_amount payment_type  zip_count_4w  ...  has_other_cards  \\\n",
       "0              102.453711           AA          1059  ...                0   \n",
       "1               -0.849551           AD          1658  ...                0   \n",
       "2               -1.490386           AB          1095  ...                0   \n",
       "3               -1.863101           AB          3483  ...                0   \n",
       "4               47.152498           AA          2339  ...                0   \n",
       "\n",
       "   proposed_credit_limit  foreign_request    source  \\\n",
       "0                 1500.0                0  INTERNET   \n",
       "1                 1500.0                0  INTERNET   \n",
       "2                  200.0                0  INTERNET   \n",
       "3                  200.0                0  INTERNET   \n",
       "4                  200.0                0  INTERNET   \n",
       "\n",
       "   session_length_in_minutes device_os  keep_alive_session  \\\n",
       "0                  16.224843     linux                   1   \n",
       "1                   3.363854     other                   1   \n",
       "2                  22.730559   windows                   0   \n",
       "3                  15.215816     linux                   1   \n",
       "4                   3.743048     other                   0   \n",
       "\n",
       "   device_distinct_emails_8w device_fraud_count  month  \n",
       "0                          1                  0      0  \n",
       "1                          1                  0      0  \n",
       "2                          1                  0      0  \n",
       "3                          1                  0      0  \n",
       "4                          1                  0      0  \n",
       "\n",
       "[5 rows x 32 columns]"
      ]
     },
     "execution_count": 2,
     "metadata": {},
     "output_type": "execute_result"
    }
   ],
   "source": [
    "df = pd.read_csv('Base.csv')\n",
    "df.head()"
   ]
  },
  {
   "cell_type": "markdown",
   "id": "6d69bcf2-c69b-48f3-bed0-9c4315a83749",
   "metadata": {
    "tags": []
   },
   "source": [
    "<b><h3>Preprocessing"
   ]
  },
  {
   "cell_type": "code",
   "execution_count": 3,
   "id": "3d25411a-57db-42ba-8b7e-ff7eb02124ad",
   "metadata": {},
   "outputs": [
    {
     "name": "stdout",
     "output_type": "stream",
     "text": [
      "\n",
      "    train -> (560000, 51)\n",
      "    validate -> (240000, 51)\n",
      "    test -> (200000, 51)\n"
     ]
    }
   ],
   "source": [
    "train, validate, test = wr.prep_fraud_data(df)"
   ]
  },
  {
   "cell_type": "code",
   "execution_count": 4,
   "id": "f59c6b56-9495-48de-9c91-23ccc1f9024f",
   "metadata": {
    "tags": []
   },
   "outputs": [
    {
     "data": {
      "text/html": [
       "<div>\n",
       "<style scoped>\n",
       "    .dataframe tbody tr th:only-of-type {\n",
       "        vertical-align: middle;\n",
       "    }\n",
       "\n",
       "    .dataframe tbody tr th {\n",
       "        vertical-align: top;\n",
       "    }\n",
       "\n",
       "    .dataframe thead th {\n",
       "        text-align: right;\n",
       "    }\n",
       "</style>\n",
       "<table border=\"1\" class=\"dataframe\">\n",
       "  <thead>\n",
       "    <tr style=\"text-align: right;\">\n",
       "      <th></th>\n",
       "      <th>fraud_bool</th>\n",
       "      <th>income</th>\n",
       "      <th>name_email_similarity</th>\n",
       "      <th>prev_address_months_count</th>\n",
       "      <th>current_address_months_count</th>\n",
       "      <th>customer_age</th>\n",
       "      <th>days_since_request</th>\n",
       "      <th>intended_balcon_amount</th>\n",
       "      <th>zip_count_4w</th>\n",
       "      <th>velocity_6h</th>\n",
       "      <th>...</th>\n",
       "      <th>housing_status_BB</th>\n",
       "      <th>housing_status_BC</th>\n",
       "      <th>housing_status_BD</th>\n",
       "      <th>housing_status_BE</th>\n",
       "      <th>housing_status_BF</th>\n",
       "      <th>housing_status_BG</th>\n",
       "      <th>device_os_macintosh</th>\n",
       "      <th>device_os_other</th>\n",
       "      <th>device_os_windows</th>\n",
       "      <th>device_os_x11</th>\n",
       "    </tr>\n",
       "  </thead>\n",
       "  <tbody>\n",
       "    <tr>\n",
       "      <th>398244</th>\n",
       "      <td>0.0</td>\n",
       "      <td>0.000</td>\n",
       "      <td>0.153683</td>\n",
       "      <td>0.0</td>\n",
       "      <td>0.104895</td>\n",
       "      <td>0.250</td>\n",
       "      <td>0.000327</td>\n",
       "      <td>0.114443</td>\n",
       "      <td>0.438202</td>\n",
       "      <td>0.421645</td>\n",
       "      <td>...</td>\n",
       "      <td>0.0</td>\n",
       "      <td>1.0</td>\n",
       "      <td>0.0</td>\n",
       "      <td>0.0</td>\n",
       "      <td>0.0</td>\n",
       "      <td>0.0</td>\n",
       "      <td>0.0</td>\n",
       "      <td>0.0</td>\n",
       "      <td>1.0</td>\n",
       "      <td>0.0</td>\n",
       "    </tr>\n",
       "    <tr>\n",
       "      <th>773860</th>\n",
       "      <td>0.0</td>\n",
       "      <td>0.500</td>\n",
       "      <td>0.204139</td>\n",
       "      <td>0.0</td>\n",
       "      <td>0.093240</td>\n",
       "      <td>0.125</td>\n",
       "      <td>0.000123</td>\n",
       "      <td>0.109384</td>\n",
       "      <td>0.070262</td>\n",
       "      <td>0.091187</td>\n",
       "      <td>...</td>\n",
       "      <td>0.0</td>\n",
       "      <td>1.0</td>\n",
       "      <td>0.0</td>\n",
       "      <td>0.0</td>\n",
       "      <td>0.0</td>\n",
       "      <td>0.0</td>\n",
       "      <td>0.0</td>\n",
       "      <td>1.0</td>\n",
       "      <td>0.0</td>\n",
       "      <td>0.0</td>\n",
       "    </tr>\n",
       "    <tr>\n",
       "      <th>145978</th>\n",
       "      <td>0.0</td>\n",
       "      <td>1.000</td>\n",
       "      <td>0.200362</td>\n",
       "      <td>0.0</td>\n",
       "      <td>0.111888</td>\n",
       "      <td>0.250</td>\n",
       "      <td>0.000135</td>\n",
       "      <td>0.117616</td>\n",
       "      <td>0.144869</td>\n",
       "      <td>0.276668</td>\n",
       "      <td>...</td>\n",
       "      <td>1.0</td>\n",
       "      <td>0.0</td>\n",
       "      <td>0.0</td>\n",
       "      <td>0.0</td>\n",
       "      <td>0.0</td>\n",
       "      <td>0.0</td>\n",
       "      <td>0.0</td>\n",
       "      <td>0.0</td>\n",
       "      <td>1.0</td>\n",
       "      <td>0.0</td>\n",
       "    </tr>\n",
       "    <tr>\n",
       "      <th>900180</th>\n",
       "      <td>0.0</td>\n",
       "      <td>0.875</td>\n",
       "      <td>0.910527</td>\n",
       "      <td>0.0</td>\n",
       "      <td>0.083916</td>\n",
       "      <td>0.250</td>\n",
       "      <td>0.000025</td>\n",
       "      <td>0.119073</td>\n",
       "      <td>0.143371</td>\n",
       "      <td>0.219041</td>\n",
       "      <td>...</td>\n",
       "      <td>1.0</td>\n",
       "      <td>0.0</td>\n",
       "      <td>0.0</td>\n",
       "      <td>0.0</td>\n",
       "      <td>0.0</td>\n",
       "      <td>0.0</td>\n",
       "      <td>0.0</td>\n",
       "      <td>0.0</td>\n",
       "      <td>0.0</td>\n",
       "      <td>0.0</td>\n",
       "    </tr>\n",
       "    <tr>\n",
       "      <th>309842</th>\n",
       "      <td>0.0</td>\n",
       "      <td>0.625</td>\n",
       "      <td>0.756425</td>\n",
       "      <td>0.0</td>\n",
       "      <td>0.153846</td>\n",
       "      <td>0.250</td>\n",
       "      <td>0.000021</td>\n",
       "      <td>0.113619</td>\n",
       "      <td>0.196255</td>\n",
       "      <td>0.085243</td>\n",
       "      <td>...</td>\n",
       "      <td>0.0</td>\n",
       "      <td>1.0</td>\n",
       "      <td>0.0</td>\n",
       "      <td>0.0</td>\n",
       "      <td>0.0</td>\n",
       "      <td>0.0</td>\n",
       "      <td>0.0</td>\n",
       "      <td>1.0</td>\n",
       "      <td>0.0</td>\n",
       "      <td>0.0</td>\n",
       "    </tr>\n",
       "  </tbody>\n",
       "</table>\n",
       "<p>5 rows × 51 columns</p>\n",
       "</div>"
      ],
      "text/plain": [
       "        fraud_bool  income  name_email_similarity  prev_address_months_count  \\\n",
       "398244         0.0   0.000               0.153683                        0.0   \n",
       "773860         0.0   0.500               0.204139                        0.0   \n",
       "145978         0.0   1.000               0.200362                        0.0   \n",
       "900180         0.0   0.875               0.910527                        0.0   \n",
       "309842         0.0   0.625               0.756425                        0.0   \n",
       "\n",
       "        current_address_months_count  customer_age  days_since_request  \\\n",
       "398244                      0.104895         0.250            0.000327   \n",
       "773860                      0.093240         0.125            0.000123   \n",
       "145978                      0.111888         0.250            0.000135   \n",
       "900180                      0.083916         0.250            0.000025   \n",
       "309842                      0.153846         0.250            0.000021   \n",
       "\n",
       "        intended_balcon_amount  zip_count_4w  velocity_6h  ...  \\\n",
       "398244                0.114443      0.438202     0.421645  ...   \n",
       "773860                0.109384      0.070262     0.091187  ...   \n",
       "145978                0.117616      0.144869     0.276668  ...   \n",
       "900180                0.119073      0.143371     0.219041  ...   \n",
       "309842                0.113619      0.196255     0.085243  ...   \n",
       "\n",
       "        housing_status_BB  housing_status_BC  housing_status_BD  \\\n",
       "398244                0.0                1.0                0.0   \n",
       "773860                0.0                1.0                0.0   \n",
       "145978                1.0                0.0                0.0   \n",
       "900180                1.0                0.0                0.0   \n",
       "309842                0.0                1.0                0.0   \n",
       "\n",
       "        housing_status_BE  housing_status_BF  housing_status_BG  \\\n",
       "398244                0.0                0.0                0.0   \n",
       "773860                0.0                0.0                0.0   \n",
       "145978                0.0                0.0                0.0   \n",
       "900180                0.0                0.0                0.0   \n",
       "309842                0.0                0.0                0.0   \n",
       "\n",
       "        device_os_macintosh  device_os_other  device_os_windows  device_os_x11  \n",
       "398244                  0.0              0.0                1.0            0.0  \n",
       "773860                  0.0              1.0                0.0            0.0  \n",
       "145978                  0.0              0.0                1.0            0.0  \n",
       "900180                  0.0              0.0                0.0            0.0  \n",
       "309842                  0.0              1.0                0.0            0.0  \n",
       "\n",
       "[5 rows x 51 columns]"
      ]
     },
     "execution_count": 4,
     "metadata": {},
     "output_type": "execute_result"
    }
   ],
   "source": [
    "train_scaled, validate_scaled, test_scaled = wr.scale_fraud_data(train, validate, test)\n",
    "train_scaled.head()"
   ]
  },
  {
   "cell_type": "code",
   "execution_count": 5,
   "id": "55819591-2125-45f2-9d1e-0c0d257b1eab",
   "metadata": {
    "tags": []
   },
   "outputs": [],
   "source": [
    "preprocessed_train, preprocessed_validate, preprocessed_test = train_scaled, validate_scaled, test_scaled"
   ]
  },
  {
   "cell_type": "code",
   "execution_count": 6,
   "id": "d0418fa5-a6bc-4f5e-8bc0-c0484699813e",
   "metadata": {
    "tags": []
   },
   "outputs": [],
   "source": [
    "X_train, y_train, X_val, y_val, X_test, y_test = ml.break_em_out(preprocessed_train, preprocessed_validate, preprocessed_test)"
   ]
  },
  {
   "cell_type": "code",
   "execution_count": 7,
   "id": "33649d16-2549-468c-88d9-9ecb687191b6",
   "metadata": {
    "tags": []
   },
   "outputs": [
    {
     "data": {
      "text/html": [
       "<div>\n",
       "<style scoped>\n",
       "    .dataframe tbody tr th:only-of-type {\n",
       "        vertical-align: middle;\n",
       "    }\n",
       "\n",
       "    .dataframe tbody tr th {\n",
       "        vertical-align: top;\n",
       "    }\n",
       "\n",
       "    .dataframe thead th {\n",
       "        text-align: right;\n",
       "    }\n",
       "</style>\n",
       "<table border=\"1\" class=\"dataframe\">\n",
       "  <thead>\n",
       "    <tr style=\"text-align: right;\">\n",
       "      <th></th>\n",
       "      <th>income</th>\n",
       "      <th>name_email_similarity</th>\n",
       "      <th>prev_address_months_count</th>\n",
       "      <th>current_address_months_count</th>\n",
       "      <th>customer_age</th>\n",
       "      <th>days_since_request</th>\n",
       "      <th>intended_balcon_amount</th>\n",
       "      <th>zip_count_4w</th>\n",
       "      <th>velocity_6h</th>\n",
       "      <th>velocity_24h</th>\n",
       "      <th>...</th>\n",
       "      <th>housing_status_BB</th>\n",
       "      <th>housing_status_BC</th>\n",
       "      <th>housing_status_BD</th>\n",
       "      <th>housing_status_BE</th>\n",
       "      <th>housing_status_BF</th>\n",
       "      <th>housing_status_BG</th>\n",
       "      <th>device_os_macintosh</th>\n",
       "      <th>device_os_other</th>\n",
       "      <th>device_os_windows</th>\n",
       "      <th>device_os_x11</th>\n",
       "    </tr>\n",
       "  </thead>\n",
       "  <tbody>\n",
       "    <tr>\n",
       "      <th>398244</th>\n",
       "      <td>0.000</td>\n",
       "      <td>0.153683</td>\n",
       "      <td>0.0</td>\n",
       "      <td>0.104895</td>\n",
       "      <td>0.250</td>\n",
       "      <td>0.000327</td>\n",
       "      <td>0.114443</td>\n",
       "      <td>0.438202</td>\n",
       "      <td>0.421645</td>\n",
       "      <td>0.505909</td>\n",
       "      <td>...</td>\n",
       "      <td>0.0</td>\n",
       "      <td>1.0</td>\n",
       "      <td>0.0</td>\n",
       "      <td>0.0</td>\n",
       "      <td>0.0</td>\n",
       "      <td>0.0</td>\n",
       "      <td>0.0</td>\n",
       "      <td>0.0</td>\n",
       "      <td>1.0</td>\n",
       "      <td>0.0</td>\n",
       "    </tr>\n",
       "    <tr>\n",
       "      <th>773860</th>\n",
       "      <td>0.500</td>\n",
       "      <td>0.204139</td>\n",
       "      <td>0.0</td>\n",
       "      <td>0.093240</td>\n",
       "      <td>0.125</td>\n",
       "      <td>0.000123</td>\n",
       "      <td>0.109384</td>\n",
       "      <td>0.070262</td>\n",
       "      <td>0.091187</td>\n",
       "      <td>0.098813</td>\n",
       "      <td>...</td>\n",
       "      <td>0.0</td>\n",
       "      <td>1.0</td>\n",
       "      <td>0.0</td>\n",
       "      <td>0.0</td>\n",
       "      <td>0.0</td>\n",
       "      <td>0.0</td>\n",
       "      <td>0.0</td>\n",
       "      <td>1.0</td>\n",
       "      <td>0.0</td>\n",
       "      <td>0.0</td>\n",
       "    </tr>\n",
       "    <tr>\n",
       "      <th>145978</th>\n",
       "      <td>1.000</td>\n",
       "      <td>0.200362</td>\n",
       "      <td>0.0</td>\n",
       "      <td>0.111888</td>\n",
       "      <td>0.250</td>\n",
       "      <td>0.000135</td>\n",
       "      <td>0.117616</td>\n",
       "      <td>0.144869</td>\n",
       "      <td>0.276668</td>\n",
       "      <td>0.333470</td>\n",
       "      <td>...</td>\n",
       "      <td>1.0</td>\n",
       "      <td>0.0</td>\n",
       "      <td>0.0</td>\n",
       "      <td>0.0</td>\n",
       "      <td>0.0</td>\n",
       "      <td>0.0</td>\n",
       "      <td>0.0</td>\n",
       "      <td>0.0</td>\n",
       "      <td>1.0</td>\n",
       "      <td>0.0</td>\n",
       "    </tr>\n",
       "    <tr>\n",
       "      <th>900180</th>\n",
       "      <td>0.875</td>\n",
       "      <td>0.910527</td>\n",
       "      <td>0.0</td>\n",
       "      <td>0.083916</td>\n",
       "      <td>0.250</td>\n",
       "      <td>0.000025</td>\n",
       "      <td>0.119073</td>\n",
       "      <td>0.143371</td>\n",
       "      <td>0.219041</td>\n",
       "      <td>0.152409</td>\n",
       "      <td>...</td>\n",
       "      <td>1.0</td>\n",
       "      <td>0.0</td>\n",
       "      <td>0.0</td>\n",
       "      <td>0.0</td>\n",
       "      <td>0.0</td>\n",
       "      <td>0.0</td>\n",
       "      <td>0.0</td>\n",
       "      <td>0.0</td>\n",
       "      <td>0.0</td>\n",
       "      <td>0.0</td>\n",
       "    </tr>\n",
       "    <tr>\n",
       "      <th>309842</th>\n",
       "      <td>0.625</td>\n",
       "      <td>0.756425</td>\n",
       "      <td>0.0</td>\n",
       "      <td>0.153846</td>\n",
       "      <td>0.250</td>\n",
       "      <td>0.000021</td>\n",
       "      <td>0.113619</td>\n",
       "      <td>0.196255</td>\n",
       "      <td>0.085243</td>\n",
       "      <td>0.401800</td>\n",
       "      <td>...</td>\n",
       "      <td>0.0</td>\n",
       "      <td>1.0</td>\n",
       "      <td>0.0</td>\n",
       "      <td>0.0</td>\n",
       "      <td>0.0</td>\n",
       "      <td>0.0</td>\n",
       "      <td>0.0</td>\n",
       "      <td>1.0</td>\n",
       "      <td>0.0</td>\n",
       "      <td>0.0</td>\n",
       "    </tr>\n",
       "  </tbody>\n",
       "</table>\n",
       "<p>5 rows × 50 columns</p>\n",
       "</div>"
      ],
      "text/plain": [
       "        income  name_email_similarity  prev_address_months_count  \\\n",
       "398244   0.000               0.153683                        0.0   \n",
       "773860   0.500               0.204139                        0.0   \n",
       "145978   1.000               0.200362                        0.0   \n",
       "900180   0.875               0.910527                        0.0   \n",
       "309842   0.625               0.756425                        0.0   \n",
       "\n",
       "        current_address_months_count  customer_age  days_since_request  \\\n",
       "398244                      0.104895         0.250            0.000327   \n",
       "773860                      0.093240         0.125            0.000123   \n",
       "145978                      0.111888         0.250            0.000135   \n",
       "900180                      0.083916         0.250            0.000025   \n",
       "309842                      0.153846         0.250            0.000021   \n",
       "\n",
       "        intended_balcon_amount  zip_count_4w  velocity_6h  velocity_24h  ...  \\\n",
       "398244                0.114443      0.438202     0.421645      0.505909  ...   \n",
       "773860                0.109384      0.070262     0.091187      0.098813  ...   \n",
       "145978                0.117616      0.144869     0.276668      0.333470  ...   \n",
       "900180                0.119073      0.143371     0.219041      0.152409  ...   \n",
       "309842                0.113619      0.196255     0.085243      0.401800  ...   \n",
       "\n",
       "        housing_status_BB  housing_status_BC  housing_status_BD  \\\n",
       "398244                0.0                1.0                0.0   \n",
       "773860                0.0                1.0                0.0   \n",
       "145978                1.0                0.0                0.0   \n",
       "900180                1.0                0.0                0.0   \n",
       "309842                0.0                1.0                0.0   \n",
       "\n",
       "        housing_status_BE  housing_status_BF  housing_status_BG  \\\n",
       "398244                0.0                0.0                0.0   \n",
       "773860                0.0                0.0                0.0   \n",
       "145978                0.0                0.0                0.0   \n",
       "900180                0.0                0.0                0.0   \n",
       "309842                0.0                0.0                0.0   \n",
       "\n",
       "        device_os_macintosh  device_os_other  device_os_windows  device_os_x11  \n",
       "398244                  0.0              0.0                1.0            0.0  \n",
       "773860                  0.0              1.0                0.0            0.0  \n",
       "145978                  0.0              0.0                1.0            0.0  \n",
       "900180                  0.0              0.0                0.0            0.0  \n",
       "309842                  0.0              1.0                0.0            0.0  \n",
       "\n",
       "[5 rows x 50 columns]"
      ]
     },
     "execution_count": 7,
     "metadata": {},
     "output_type": "execute_result"
    }
   ],
   "source": [
    "X_train.head()"
   ]
  },
  {
   "cell_type": "markdown",
   "id": "8cae36d3-97a9-42e8-8e7b-24f1710d01e8",
   "metadata": {},
   "source": [
    "<b><h1>Regression"
   ]
  },
  {
   "cell_type": "markdown",
   "id": "ae4f2a2b-d3df-4590-9b15-f8249c7fe186",
   "metadata": {},
   "source": [
    "<b><h3>Establish a Baseline"
   ]
  },
  {
   "cell_type": "code",
   "execution_count": 8,
   "id": "b64ed857-1fa1-47fa-a59f-af82b1c88b0f",
   "metadata": {},
   "outputs": [
    {
     "name": "stdout",
     "output_type": "stream",
     "text": [
      "\n",
      "_______________________________________________________________\n",
      "Baseline: 0.0110625 | Baseline RMSE: 0.10459503379104575 | Baseline r2: 0.0\n"
     ]
    }
   ],
   "source": [
    "baseline, baseline_rmse, baseline_r2 = ml.get_baseline(train)"
   ]
  },
  {
   "cell_type": "markdown",
   "id": "22e9eff4-6573-482b-9b3a-421001882770",
   "metadata": {
    "tags": []
   },
   "source": [
    "<b><h2>Comparison of the Regression Models"
   ]
  },
  {
   "cell_type": "markdown",
   "id": "092f90bf-3935-44b7-b7e5-17df436fa45f",
   "metadata": {},
   "source": [
    "<b><h3>Model 1: LinearRegression (OLS)"
   ]
  },
  {
   "cell_type": "code",
   "execution_count": 9,
   "id": "3faf36bc-4ec1-4476-b37f-2b3ddae80aae",
   "metadata": {},
   "outputs": [
    {
     "name": "stdout",
     "output_type": "stream",
     "text": [
      "RMSE for Ordinary Least Squares\n",
      "_____________________\n",
      "Training/In-Sample: 0.10287101283853259, \n",
      "Validation/Out-of-Sample:  0.10254778733264441\n",
      "Difference:  -0.000323225505888175\n",
      "Difference from baseline:  0.09148528733264441\n",
      "Val r2: 0.03300034679692487\n"
     ]
    }
   ],
   "source": [
    "ml.OLS(X_train, y_train, baseline, X_val, y_val)"
   ]
  },
  {
   "cell_type": "markdown",
   "id": "81140d88-965d-4c36-9c70-90382af0e948",
   "metadata": {},
   "source": [
    "<b><h3>Model 2: LassoLars"
   ]
  },
  {
   "cell_type": "code",
   "execution_count": 10,
   "id": "a609e00f-63c5-4d7b-a402-cb62e56a031c",
   "metadata": {},
   "outputs": [
    {
     "name": "stdout",
     "output_type": "stream",
     "text": [
      "RMSE for Lasso + Lars\n",
      "_____________________\n",
      "Training/In-Sample: 0.10459503379104575, \n",
      "Validation/Out-of-Sample:  0.10428292970128587\n",
      "Difference:  -0.0003121040897598737\n",
      "Difference from baseline:  0.09322042970128587\n",
      "Val r2: -4.0868736550514484e-07\n"
     ]
    }
   ],
   "source": [
    "ml.LassoLars(X_train, y_train, baseline, X_val, y_val)"
   ]
  },
  {
   "cell_type": "markdown",
   "id": "3abb25da-e705-493d-8c2b-a37ead1762cc",
   "metadata": {},
   "source": [
    "<b><h3>Model 3: TweedieRegressor (GLM)"
   ]
  },
  {
   "cell_type": "code",
   "execution_count": 11,
   "id": "2e562b5b-44a4-4db7-8320-57499a4c98c8",
   "metadata": {},
   "outputs": [
    {
     "name": "stdout",
     "output_type": "stream",
     "text": [
      "RMSE for GLM\n",
      "_____________________\n",
      "Training/In-Sample: 0.10458908688595123, \n",
      "Validation/Out-of-Sample:  0.10427693587139829\n",
      "Difference:  -0.0003121510145529388\n",
      "Difference from baseline:  0.09321443587139829\n",
      "Val r2: 0.00011454128770238547\n"
     ]
    }
   ],
   "source": [
    "ml.GLM(X_train, y_train, baseline, X_val, y_val)"
   ]
  },
  {
   "cell_type": "markdown",
   "id": "7d7455a7-a3a0-46f7-a083-cc71577b44c4",
   "metadata": {},
   "source": [
    "<b><h3>Model 4: Polynomial Regression"
   ]
  },
  {
   "cell_type": "code",
   "execution_count": 12,
   "id": "5a62ddd3-6309-4507-8d31-575982d66719",
   "metadata": {},
   "outputs": [
    {
     "name": "stdout",
     "output_type": "stream",
     "text": [
      "RMSE for Polynomial Regression\n",
      "    _____________________\n",
      "    Training/In-Sample: 0.1010655493603768, \n",
      "    Validation/Out-of-Sample:  39828857.32517678\n",
      "    Difference:  39828857.22411124\n",
      "    Difference from baseline:  39828857.31411428\n",
      "    Val r2: -1.4587115574238656e+17\n"
     ]
    }
   ],
   "source": [
    "ml.poly_model(X_train, y_train, baseline, X_val, y_val)"
   ]
  },
  {
   "cell_type": "markdown",
   "id": "d950cf1f-dd1e-4284-8142-968c3792678d",
   "metadata": {
    "tags": []
   },
   "source": [
    "<b><h3>Final Best Model on Test Data: Linear Regression"
   ]
  },
  {
   "cell_type": "code",
   "execution_count": 13,
   "id": "e91fbe39-4bc0-4c78-9403-1d0755e58abd",
   "metadata": {},
   "outputs": [
    {
     "name": "stdout",
     "output_type": "stream",
     "text": [
      "RMSE & r2 for Ordinary Least Squares Test Model\n",
      "_____________________________________________\n",
      "Baseline: 0.0110625\n",
      "Training/In-Sample: 0.10287101283853259 \n",
      "Validation/Out-of-Sample:  0.10254778733264441\n",
      "Test/Out-of-Sample:  0.10250228262198867\n",
      "Difference from baseline:  0.09143978262198867\n",
      "Test r2: 0.03204476024431546\n"
     ]
    }
   ],
   "source": [
    "ml.OLS_test(X_train, y_train, baseline, X_val, y_val, X_test, y_test)"
   ]
  },
  {
   "cell_type": "markdown",
   "id": "8563bb7b-fed3-433d-9bdb-9d509f2730c6",
   "metadata": {},
   "source": [
    "<h1><b>Take 2: Let's use the Top 5 Features recommended by Select K Best"
   ]
  },
  {
   "cell_type": "code",
   "execution_count": 14,
   "id": "18ee6166-f55a-4b4c-a4cf-2898fecedd8b",
   "metadata": {
    "tags": []
   },
   "outputs": [
    {
     "data": {
      "text/html": [
       "<div>\n",
       "<style scoped>\n",
       "    .dataframe tbody tr th:only-of-type {\n",
       "        vertical-align: middle;\n",
       "    }\n",
       "\n",
       "    .dataframe tbody tr th {\n",
       "        vertical-align: top;\n",
       "    }\n",
       "\n",
       "    .dataframe thead th {\n",
       "        text-align: right;\n",
       "    }\n",
       "</style>\n",
       "<table border=\"1\" class=\"dataframe\">\n",
       "  <thead>\n",
       "    <tr style=\"text-align: right;\">\n",
       "      <th></th>\n",
       "      <th>fraud_bool</th>\n",
       "      <th>income</th>\n",
       "      <th>name_email_similarity</th>\n",
       "      <th>prev_address_months_count</th>\n",
       "      <th>current_address_months_count</th>\n",
       "      <th>customer_age</th>\n",
       "      <th>days_since_request</th>\n",
       "      <th>intended_balcon_amount</th>\n",
       "      <th>payment_type</th>\n",
       "      <th>zip_count_4w</th>\n",
       "      <th>...</th>\n",
       "      <th>has_other_cards</th>\n",
       "      <th>proposed_credit_limit</th>\n",
       "      <th>foreign_request</th>\n",
       "      <th>source</th>\n",
       "      <th>session_length_in_minutes</th>\n",
       "      <th>device_os</th>\n",
       "      <th>keep_alive_session</th>\n",
       "      <th>device_distinct_emails_8w</th>\n",
       "      <th>device_fraud_count</th>\n",
       "      <th>month</th>\n",
       "    </tr>\n",
       "  </thead>\n",
       "  <tbody>\n",
       "    <tr>\n",
       "      <th>0</th>\n",
       "      <td>0</td>\n",
       "      <td>0.3</td>\n",
       "      <td>0.986506</td>\n",
       "      <td>-1</td>\n",
       "      <td>25</td>\n",
       "      <td>40</td>\n",
       "      <td>0.006735</td>\n",
       "      <td>102.453711</td>\n",
       "      <td>AA</td>\n",
       "      <td>1059</td>\n",
       "      <td>...</td>\n",
       "      <td>0</td>\n",
       "      <td>1500.0</td>\n",
       "      <td>0</td>\n",
       "      <td>INTERNET</td>\n",
       "      <td>16.224843</td>\n",
       "      <td>linux</td>\n",
       "      <td>1</td>\n",
       "      <td>1</td>\n",
       "      <td>0</td>\n",
       "      <td>0</td>\n",
       "    </tr>\n",
       "    <tr>\n",
       "      <th>1</th>\n",
       "      <td>0</td>\n",
       "      <td>0.8</td>\n",
       "      <td>0.617426</td>\n",
       "      <td>-1</td>\n",
       "      <td>89</td>\n",
       "      <td>20</td>\n",
       "      <td>0.010095</td>\n",
       "      <td>-0.849551</td>\n",
       "      <td>AD</td>\n",
       "      <td>1658</td>\n",
       "      <td>...</td>\n",
       "      <td>0</td>\n",
       "      <td>1500.0</td>\n",
       "      <td>0</td>\n",
       "      <td>INTERNET</td>\n",
       "      <td>3.363854</td>\n",
       "      <td>other</td>\n",
       "      <td>1</td>\n",
       "      <td>1</td>\n",
       "      <td>0</td>\n",
       "      <td>0</td>\n",
       "    </tr>\n",
       "    <tr>\n",
       "      <th>2</th>\n",
       "      <td>0</td>\n",
       "      <td>0.8</td>\n",
       "      <td>0.996707</td>\n",
       "      <td>9</td>\n",
       "      <td>14</td>\n",
       "      <td>40</td>\n",
       "      <td>0.012316</td>\n",
       "      <td>-1.490386</td>\n",
       "      <td>AB</td>\n",
       "      <td>1095</td>\n",
       "      <td>...</td>\n",
       "      <td>0</td>\n",
       "      <td>200.0</td>\n",
       "      <td>0</td>\n",
       "      <td>INTERNET</td>\n",
       "      <td>22.730559</td>\n",
       "      <td>windows</td>\n",
       "      <td>0</td>\n",
       "      <td>1</td>\n",
       "      <td>0</td>\n",
       "      <td>0</td>\n",
       "    </tr>\n",
       "    <tr>\n",
       "      <th>3</th>\n",
       "      <td>0</td>\n",
       "      <td>0.6</td>\n",
       "      <td>0.475100</td>\n",
       "      <td>11</td>\n",
       "      <td>14</td>\n",
       "      <td>30</td>\n",
       "      <td>0.006991</td>\n",
       "      <td>-1.863101</td>\n",
       "      <td>AB</td>\n",
       "      <td>3483</td>\n",
       "      <td>...</td>\n",
       "      <td>0</td>\n",
       "      <td>200.0</td>\n",
       "      <td>0</td>\n",
       "      <td>INTERNET</td>\n",
       "      <td>15.215816</td>\n",
       "      <td>linux</td>\n",
       "      <td>1</td>\n",
       "      <td>1</td>\n",
       "      <td>0</td>\n",
       "      <td>0</td>\n",
       "    </tr>\n",
       "    <tr>\n",
       "      <th>4</th>\n",
       "      <td>0</td>\n",
       "      <td>0.9</td>\n",
       "      <td>0.842307</td>\n",
       "      <td>-1</td>\n",
       "      <td>29</td>\n",
       "      <td>40</td>\n",
       "      <td>5.742626</td>\n",
       "      <td>47.152498</td>\n",
       "      <td>AA</td>\n",
       "      <td>2339</td>\n",
       "      <td>...</td>\n",
       "      <td>0</td>\n",
       "      <td>200.0</td>\n",
       "      <td>0</td>\n",
       "      <td>INTERNET</td>\n",
       "      <td>3.743048</td>\n",
       "      <td>other</td>\n",
       "      <td>0</td>\n",
       "      <td>1</td>\n",
       "      <td>0</td>\n",
       "      <td>0</td>\n",
       "    </tr>\n",
       "  </tbody>\n",
       "</table>\n",
       "<p>5 rows × 32 columns</p>\n",
       "</div>"
      ],
      "text/plain": [
       "   fraud_bool  income  name_email_similarity  prev_address_months_count  \\\n",
       "0           0     0.3               0.986506                         -1   \n",
       "1           0     0.8               0.617426                         -1   \n",
       "2           0     0.8               0.996707                          9   \n",
       "3           0     0.6               0.475100                         11   \n",
       "4           0     0.9               0.842307                         -1   \n",
       "\n",
       "   current_address_months_count  customer_age  days_since_request  \\\n",
       "0                            25            40            0.006735   \n",
       "1                            89            20            0.010095   \n",
       "2                            14            40            0.012316   \n",
       "3                            14            30            0.006991   \n",
       "4                            29            40            5.742626   \n",
       "\n",
       "   intended_balcon_amount payment_type  zip_count_4w  ...  has_other_cards  \\\n",
       "0              102.453711           AA          1059  ...                0   \n",
       "1               -0.849551           AD          1658  ...                0   \n",
       "2               -1.490386           AB          1095  ...                0   \n",
       "3               -1.863101           AB          3483  ...                0   \n",
       "4               47.152498           AA          2339  ...                0   \n",
       "\n",
       "   proposed_credit_limit  foreign_request    source  \\\n",
       "0                 1500.0                0  INTERNET   \n",
       "1                 1500.0                0  INTERNET   \n",
       "2                  200.0                0  INTERNET   \n",
       "3                  200.0                0  INTERNET   \n",
       "4                  200.0                0  INTERNET   \n",
       "\n",
       "   session_length_in_minutes device_os  keep_alive_session  \\\n",
       "0                  16.224843     linux                   1   \n",
       "1                   3.363854     other                   1   \n",
       "2                  22.730559   windows                   0   \n",
       "3                  15.215816     linux                   1   \n",
       "4                   3.743048     other                   0   \n",
       "\n",
       "   device_distinct_emails_8w device_fraud_count  month  \n",
       "0                          1                  0      0  \n",
       "1                          1                  0      0  \n",
       "2                          1                  0      0  \n",
       "3                          1                  0      0  \n",
       "4                          1                  0      0  \n",
       "\n",
       "[5 rows x 32 columns]"
      ]
     },
     "execution_count": 14,
     "metadata": {},
     "output_type": "execute_result"
    }
   ],
   "source": [
    "df = pd.read_csv('Base.csv')\n",
    "df.head()"
   ]
  },
  {
   "cell_type": "code",
   "execution_count": 15,
   "id": "ce571316-c3e5-47d9-8bbe-54095d95af49",
   "metadata": {
    "tags": []
   },
   "outputs": [
    {
     "name": "stdout",
     "output_type": "stream",
     "text": [
      "\n",
      "    train -> (560000, 51)\n",
      "    validate -> (240000, 51)\n",
      "    test -> (200000, 51)\n"
     ]
    }
   ],
   "source": [
    "train, validate, test = wr.prep_fraud_data(df)"
   ]
  },
  {
   "cell_type": "code",
   "execution_count": 16,
   "id": "0fcb8ce1-7ab2-444e-bacd-608a7daedf01",
   "metadata": {
    "tags": []
   },
   "outputs": [
    {
     "data": {
      "text/html": [
       "<div>\n",
       "<style scoped>\n",
       "    .dataframe tbody tr th:only-of-type {\n",
       "        vertical-align: middle;\n",
       "    }\n",
       "\n",
       "    .dataframe tbody tr th {\n",
       "        vertical-align: top;\n",
       "    }\n",
       "\n",
       "    .dataframe thead th {\n",
       "        text-align: right;\n",
       "    }\n",
       "</style>\n",
       "<table border=\"1\" class=\"dataframe\">\n",
       "  <thead>\n",
       "    <tr style=\"text-align: right;\">\n",
       "      <th></th>\n",
       "      <th>fraud_bool</th>\n",
       "      <th>income</th>\n",
       "      <th>name_email_similarity</th>\n",
       "      <th>prev_address_months_count</th>\n",
       "      <th>current_address_months_count</th>\n",
       "      <th>customer_age</th>\n",
       "      <th>days_since_request</th>\n",
       "      <th>intended_balcon_amount</th>\n",
       "      <th>zip_count_4w</th>\n",
       "      <th>velocity_6h</th>\n",
       "      <th>...</th>\n",
       "      <th>housing_status_BB</th>\n",
       "      <th>housing_status_BC</th>\n",
       "      <th>housing_status_BD</th>\n",
       "      <th>housing_status_BE</th>\n",
       "      <th>housing_status_BF</th>\n",
       "      <th>housing_status_BG</th>\n",
       "      <th>device_os_macintosh</th>\n",
       "      <th>device_os_other</th>\n",
       "      <th>device_os_windows</th>\n",
       "      <th>device_os_x11</th>\n",
       "    </tr>\n",
       "  </thead>\n",
       "  <tbody>\n",
       "    <tr>\n",
       "      <th>398244</th>\n",
       "      <td>0.0</td>\n",
       "      <td>0.000</td>\n",
       "      <td>0.153683</td>\n",
       "      <td>0.0</td>\n",
       "      <td>0.104895</td>\n",
       "      <td>0.250</td>\n",
       "      <td>0.000327</td>\n",
       "      <td>0.114443</td>\n",
       "      <td>0.438202</td>\n",
       "      <td>0.421645</td>\n",
       "      <td>...</td>\n",
       "      <td>0.0</td>\n",
       "      <td>1.0</td>\n",
       "      <td>0.0</td>\n",
       "      <td>0.0</td>\n",
       "      <td>0.0</td>\n",
       "      <td>0.0</td>\n",
       "      <td>0.0</td>\n",
       "      <td>0.0</td>\n",
       "      <td>1.0</td>\n",
       "      <td>0.0</td>\n",
       "    </tr>\n",
       "    <tr>\n",
       "      <th>773860</th>\n",
       "      <td>0.0</td>\n",
       "      <td>0.500</td>\n",
       "      <td>0.204139</td>\n",
       "      <td>0.0</td>\n",
       "      <td>0.093240</td>\n",
       "      <td>0.125</td>\n",
       "      <td>0.000123</td>\n",
       "      <td>0.109384</td>\n",
       "      <td>0.070262</td>\n",
       "      <td>0.091187</td>\n",
       "      <td>...</td>\n",
       "      <td>0.0</td>\n",
       "      <td>1.0</td>\n",
       "      <td>0.0</td>\n",
       "      <td>0.0</td>\n",
       "      <td>0.0</td>\n",
       "      <td>0.0</td>\n",
       "      <td>0.0</td>\n",
       "      <td>1.0</td>\n",
       "      <td>0.0</td>\n",
       "      <td>0.0</td>\n",
       "    </tr>\n",
       "    <tr>\n",
       "      <th>145978</th>\n",
       "      <td>0.0</td>\n",
       "      <td>1.000</td>\n",
       "      <td>0.200362</td>\n",
       "      <td>0.0</td>\n",
       "      <td>0.111888</td>\n",
       "      <td>0.250</td>\n",
       "      <td>0.000135</td>\n",
       "      <td>0.117616</td>\n",
       "      <td>0.144869</td>\n",
       "      <td>0.276668</td>\n",
       "      <td>...</td>\n",
       "      <td>1.0</td>\n",
       "      <td>0.0</td>\n",
       "      <td>0.0</td>\n",
       "      <td>0.0</td>\n",
       "      <td>0.0</td>\n",
       "      <td>0.0</td>\n",
       "      <td>0.0</td>\n",
       "      <td>0.0</td>\n",
       "      <td>1.0</td>\n",
       "      <td>0.0</td>\n",
       "    </tr>\n",
       "    <tr>\n",
       "      <th>900180</th>\n",
       "      <td>0.0</td>\n",
       "      <td>0.875</td>\n",
       "      <td>0.910527</td>\n",
       "      <td>0.0</td>\n",
       "      <td>0.083916</td>\n",
       "      <td>0.250</td>\n",
       "      <td>0.000025</td>\n",
       "      <td>0.119073</td>\n",
       "      <td>0.143371</td>\n",
       "      <td>0.219041</td>\n",
       "      <td>...</td>\n",
       "      <td>1.0</td>\n",
       "      <td>0.0</td>\n",
       "      <td>0.0</td>\n",
       "      <td>0.0</td>\n",
       "      <td>0.0</td>\n",
       "      <td>0.0</td>\n",
       "      <td>0.0</td>\n",
       "      <td>0.0</td>\n",
       "      <td>0.0</td>\n",
       "      <td>0.0</td>\n",
       "    </tr>\n",
       "    <tr>\n",
       "      <th>309842</th>\n",
       "      <td>0.0</td>\n",
       "      <td>0.625</td>\n",
       "      <td>0.756425</td>\n",
       "      <td>0.0</td>\n",
       "      <td>0.153846</td>\n",
       "      <td>0.250</td>\n",
       "      <td>0.000021</td>\n",
       "      <td>0.113619</td>\n",
       "      <td>0.196255</td>\n",
       "      <td>0.085243</td>\n",
       "      <td>...</td>\n",
       "      <td>0.0</td>\n",
       "      <td>1.0</td>\n",
       "      <td>0.0</td>\n",
       "      <td>0.0</td>\n",
       "      <td>0.0</td>\n",
       "      <td>0.0</td>\n",
       "      <td>0.0</td>\n",
       "      <td>1.0</td>\n",
       "      <td>0.0</td>\n",
       "      <td>0.0</td>\n",
       "    </tr>\n",
       "  </tbody>\n",
       "</table>\n",
       "<p>5 rows × 51 columns</p>\n",
       "</div>"
      ],
      "text/plain": [
       "        fraud_bool  income  name_email_similarity  prev_address_months_count  \\\n",
       "398244         0.0   0.000               0.153683                        0.0   \n",
       "773860         0.0   0.500               0.204139                        0.0   \n",
       "145978         0.0   1.000               0.200362                        0.0   \n",
       "900180         0.0   0.875               0.910527                        0.0   \n",
       "309842         0.0   0.625               0.756425                        0.0   \n",
       "\n",
       "        current_address_months_count  customer_age  days_since_request  \\\n",
       "398244                      0.104895         0.250            0.000327   \n",
       "773860                      0.093240         0.125            0.000123   \n",
       "145978                      0.111888         0.250            0.000135   \n",
       "900180                      0.083916         0.250            0.000025   \n",
       "309842                      0.153846         0.250            0.000021   \n",
       "\n",
       "        intended_balcon_amount  zip_count_4w  velocity_6h  ...  \\\n",
       "398244                0.114443      0.438202     0.421645  ...   \n",
       "773860                0.109384      0.070262     0.091187  ...   \n",
       "145978                0.117616      0.144869     0.276668  ...   \n",
       "900180                0.119073      0.143371     0.219041  ...   \n",
       "309842                0.113619      0.196255     0.085243  ...   \n",
       "\n",
       "        housing_status_BB  housing_status_BC  housing_status_BD  \\\n",
       "398244                0.0                1.0                0.0   \n",
       "773860                0.0                1.0                0.0   \n",
       "145978                1.0                0.0                0.0   \n",
       "900180                1.0                0.0                0.0   \n",
       "309842                0.0                1.0                0.0   \n",
       "\n",
       "        housing_status_BE  housing_status_BF  housing_status_BG  \\\n",
       "398244                0.0                0.0                0.0   \n",
       "773860                0.0                0.0                0.0   \n",
       "145978                0.0                0.0                0.0   \n",
       "900180                0.0                0.0                0.0   \n",
       "309842                0.0                0.0                0.0   \n",
       "\n",
       "        device_os_macintosh  device_os_other  device_os_windows  device_os_x11  \n",
       "398244                  0.0              0.0                1.0            0.0  \n",
       "773860                  0.0              1.0                0.0            0.0  \n",
       "145978                  0.0              0.0                1.0            0.0  \n",
       "900180                  0.0              0.0                0.0            0.0  \n",
       "309842                  0.0              1.0                0.0            0.0  \n",
       "\n",
       "[5 rows x 51 columns]"
      ]
     },
     "execution_count": 16,
     "metadata": {},
     "output_type": "execute_result"
    }
   ],
   "source": [
    "train_scaled, validate_scaled, test_scaled = wr.scale_fraud_data(train, validate, test)\n",
    "train_scaled.head()"
   ]
  },
  {
   "cell_type": "code",
   "execution_count": 17,
   "id": "de735dd7-ff71-4433-b603-629429925641",
   "metadata": {
    "tags": []
   },
   "outputs": [],
   "source": [
    "from sklearn.feature_selection import SelectKBest, f_regression\n",
    "f_selector = SelectKBest(f_regression, k=5)"
   ]
  },
  {
   "cell_type": "code",
   "execution_count": 18,
   "id": "01fb9a33-dafc-4391-aacc-cdd093e2225c",
   "metadata": {
    "tags": []
   },
   "outputs": [
    {
     "data": {
      "text/html": [
       "<style>#sk-container-id-1 {color: black;}#sk-container-id-1 pre{padding: 0;}#sk-container-id-1 div.sk-toggleable {background-color: white;}#sk-container-id-1 label.sk-toggleable__label {cursor: pointer;display: block;width: 100%;margin-bottom: 0;padding: 0.3em;box-sizing: border-box;text-align: center;}#sk-container-id-1 label.sk-toggleable__label-arrow:before {content: \"▸\";float: left;margin-right: 0.25em;color: #696969;}#sk-container-id-1 label.sk-toggleable__label-arrow:hover:before {color: black;}#sk-container-id-1 div.sk-estimator:hover label.sk-toggleable__label-arrow:before {color: black;}#sk-container-id-1 div.sk-toggleable__content {max-height: 0;max-width: 0;overflow: hidden;text-align: left;background-color: #f0f8ff;}#sk-container-id-1 div.sk-toggleable__content pre {margin: 0.2em;color: black;border-radius: 0.25em;background-color: #f0f8ff;}#sk-container-id-1 input.sk-toggleable__control:checked~div.sk-toggleable__content {max-height: 200px;max-width: 100%;overflow: auto;}#sk-container-id-1 input.sk-toggleable__control:checked~label.sk-toggleable__label-arrow:before {content: \"▾\";}#sk-container-id-1 div.sk-estimator input.sk-toggleable__control:checked~label.sk-toggleable__label {background-color: #d4ebff;}#sk-container-id-1 div.sk-label input.sk-toggleable__control:checked~label.sk-toggleable__label {background-color: #d4ebff;}#sk-container-id-1 input.sk-hidden--visually {border: 0;clip: rect(1px 1px 1px 1px);clip: rect(1px, 1px, 1px, 1px);height: 1px;margin: -1px;overflow: hidden;padding: 0;position: absolute;width: 1px;}#sk-container-id-1 div.sk-estimator {font-family: monospace;background-color: #f0f8ff;border: 1px dotted black;border-radius: 0.25em;box-sizing: border-box;margin-bottom: 0.5em;}#sk-container-id-1 div.sk-estimator:hover {background-color: #d4ebff;}#sk-container-id-1 div.sk-parallel-item::after {content: \"\";width: 100%;border-bottom: 1px solid gray;flex-grow: 1;}#sk-container-id-1 div.sk-label:hover label.sk-toggleable__label {background-color: #d4ebff;}#sk-container-id-1 div.sk-serial::before {content: \"\";position: absolute;border-left: 1px solid gray;box-sizing: border-box;top: 0;bottom: 0;left: 50%;z-index: 0;}#sk-container-id-1 div.sk-serial {display: flex;flex-direction: column;align-items: center;background-color: white;padding-right: 0.2em;padding-left: 0.2em;position: relative;}#sk-container-id-1 div.sk-item {position: relative;z-index: 1;}#sk-container-id-1 div.sk-parallel {display: flex;align-items: stretch;justify-content: center;background-color: white;position: relative;}#sk-container-id-1 div.sk-item::before, #sk-container-id-1 div.sk-parallel-item::before {content: \"\";position: absolute;border-left: 1px solid gray;box-sizing: border-box;top: 0;bottom: 0;left: 50%;z-index: -1;}#sk-container-id-1 div.sk-parallel-item {display: flex;flex-direction: column;z-index: 1;position: relative;background-color: white;}#sk-container-id-1 div.sk-parallel-item:first-child::after {align-self: flex-end;width: 50%;}#sk-container-id-1 div.sk-parallel-item:last-child::after {align-self: flex-start;width: 50%;}#sk-container-id-1 div.sk-parallel-item:only-child::after {width: 0;}#sk-container-id-1 div.sk-dashed-wrapped {border: 1px dashed gray;margin: 0 0.4em 0.5em 0.4em;box-sizing: border-box;padding-bottom: 0.4em;background-color: white;}#sk-container-id-1 div.sk-label label {font-family: monospace;font-weight: bold;display: inline-block;line-height: 1.2em;}#sk-container-id-1 div.sk-label-container {text-align: center;}#sk-container-id-1 div.sk-container {/* jupyter's `normalize.less` sets `[hidden] { display: none; }` but bootstrap.min.css set `[hidden] { display: none !important; }` so we also need the `!important` here to be able to override the default hidden behavior on the sphinx rendered scikit-learn.org. See: https://github.com/scikit-learn/scikit-learn/issues/21755 */display: inline-block !important;position: relative;}#sk-container-id-1 div.sk-text-repr-fallback {display: none;}</style><div id=\"sk-container-id-1\" class=\"sk-top-container\"><div class=\"sk-text-repr-fallback\"><pre>SelectKBest(k=5, score_func=&lt;function f_regression at 0x13ca15440&gt;)</pre><b>In a Jupyter environment, please rerun this cell to show the HTML representation or trust the notebook. <br />On GitHub, the HTML representation is unable to render, please try loading this page with nbviewer.org.</b></div><div class=\"sk-container\" hidden><div class=\"sk-item\"><div class=\"sk-estimator sk-toggleable\"><input class=\"sk-toggleable__control sk-hidden--visually\" id=\"sk-estimator-id-1\" type=\"checkbox\" checked><label for=\"sk-estimator-id-1\" class=\"sk-toggleable__label sk-toggleable__label-arrow\">SelectKBest</label><div class=\"sk-toggleable__content\"><pre>SelectKBest(k=5, score_func=&lt;function f_regression at 0x13ca15440&gt;)</pre></div></div></div></div></div>"
      ],
      "text/plain": [
       "SelectKBest(k=5, score_func=<function f_regression at 0x13ca15440>)"
      ]
     },
     "execution_count": 18,
     "metadata": {},
     "output_type": "execute_result"
    }
   ],
   "source": [
    "f_selector.fit(X_train, y_train)"
   ]
  },
  {
   "cell_type": "code",
   "execution_count": 19,
   "id": "ef3f680c-1d42-40f9-8665-9023acb6d92e",
   "metadata": {
    "tags": []
   },
   "outputs": [
    {
     "name": "stdout",
     "output_type": "stream",
     "text": [
      "(560000, 50)\n",
      "(560000, 5)\n"
     ]
    }
   ],
   "source": [
    "X_reduced = f_selector.transform(X_train)\n",
    "\n",
    "print(X_train.shape)\n",
    "print(X_reduced.shape)"
   ]
  },
  {
   "cell_type": "code",
   "execution_count": 20,
   "id": "71b50bf1-e1cd-41f6-9143-d69a77d50343",
   "metadata": {
    "tags": []
   },
   "outputs": [
    {
     "data": {
      "text/plain": [
       "array(['customer_age', 'credit_risk_score', 'proposed_credit_limit',\n",
       "       'device_os_encoded', 'device_os_windows'], dtype=object)"
      ]
     },
     "execution_count": 20,
     "metadata": {},
     "output_type": "execute_result"
    }
   ],
   "source": [
    "f_selector.get_feature_names_out()"
   ]
  },
  {
   "cell_type": "code",
   "execution_count": 21,
   "id": "6da56d12-09b0-4f72-a628-99d0254854ae",
   "metadata": {
    "tags": []
   },
   "outputs": [],
   "source": [
    "train_scaled = train_scaled[['fraud_bool','customer_age', 'credit_risk_score', 'proposed_credit_limit',\n",
    "       'device_os_encoded', 'device_os_windows']]\n",
    "validate_scaled = validate_scaled[['fraud_bool','customer_age', 'credit_risk_score', 'proposed_credit_limit',\n",
    "       'device_os_encoded', 'device_os_windows']]\n",
    "test_scaled = test_scaled[['fraud_bool','customer_age', 'credit_risk_score', 'proposed_credit_limit',\n",
    "       'device_os_encoded', 'device_os_windows']]"
   ]
  },
  {
   "cell_type": "code",
   "execution_count": 22,
   "id": "9277affa-4d96-47f6-aeaa-03cf63a9ca31",
   "metadata": {
    "tags": []
   },
   "outputs": [
    {
     "data": {
      "text/plain": [
       "((560000, 6), (240000, 6), (200000, 6))"
      ]
     },
     "execution_count": 22,
     "metadata": {},
     "output_type": "execute_result"
    }
   ],
   "source": [
    "train_scaled.shape, validate_scaled.shape, test_scaled.shape"
   ]
  },
  {
   "cell_type": "code",
   "execution_count": 23,
   "id": "5954f4b7-0fc7-4ad6-8b55-0680414f8b7c",
   "metadata": {},
   "outputs": [],
   "source": [
    "preprocessed_train, preprocessed_validate, preprocessed_test = train_scaled, validate_scaled, test_scaled\n",
    "X_train, y_train, X_val, y_val, X_test, y_test = ml.break_em_out(preprocessed_train, preprocessed_validate, preprocessed_test)"
   ]
  },
  {
   "cell_type": "markdown",
   "id": "9fc1aa58-bd2a-4ea1-9e99-5a1c83f4fd71",
   "metadata": {},
   "source": [
    "<b><h3>Establish a Baseline"
   ]
  },
  {
   "cell_type": "code",
   "execution_count": 24,
   "id": "548348d1-783c-4914-93df-773268634279",
   "metadata": {
    "tags": []
   },
   "outputs": [
    {
     "name": "stdout",
     "output_type": "stream",
     "text": [
      "\n",
      "_______________________________________________________________\n",
      "Baseline: 0.0110625 | Baseline RMSE: 0.10459503379104575 | Baseline r2: 0.0\n"
     ]
    }
   ],
   "source": [
    "baseline, baseline_rmse, baseline_r2 = ml.get_baseline(train)"
   ]
  },
  {
   "cell_type": "markdown",
   "id": "ebe98756-6ace-4b61-b0e1-7ab6bf9c9201",
   "metadata": {},
   "source": [
    "<b><h2>Comparison of the Regression Models"
   ]
  },
  {
   "cell_type": "markdown",
   "id": "735b27aa-2331-4b31-9360-faec80c125c2",
   "metadata": {},
   "source": [
    "<b><h3>Model 1: LinearRegression (OLS)"
   ]
  },
  {
   "cell_type": "code",
   "execution_count": 25,
   "id": "248a6186-cdcd-4c66-a8c4-f8055f4526db",
   "metadata": {},
   "outputs": [
    {
     "name": "stdout",
     "output_type": "stream",
     "text": [
      "RMSE for Ordinary Least Squares\n",
      "_____________________\n",
      "Training/In-Sample: 0.10390751437415263, \n",
      "Validation/Out-of-Sample:  0.10359086216661247\n",
      "Difference:  -0.0003166522075401662\n",
      "Difference from baseline:  0.09252836216661246\n",
      "Val r2: 0.013228436834869961\n"
     ]
    }
   ],
   "source": [
    "ml.OLS(X_train, y_train, baseline, X_val, y_val)"
   ]
  },
  {
   "cell_type": "markdown",
   "id": "6d3f6991-fd7f-43ed-b260-6d1ea467268d",
   "metadata": {
    "tags": []
   },
   "source": [
    "<b><h3>Model 2: LassoLars"
   ]
  },
  {
   "cell_type": "code",
   "execution_count": 26,
   "id": "7adbb584-82c4-4450-9576-dd2d7e1ba8e1",
   "metadata": {},
   "outputs": [
    {
     "name": "stdout",
     "output_type": "stream",
     "text": [
      "RMSE for Lasso + Lars\n",
      "_____________________\n",
      "Training/In-Sample: 0.10459503379104575, \n",
      "Validation/Out-of-Sample:  0.10428292970128587\n",
      "Difference:  -0.0003121040897598737\n",
      "Difference from baseline:  0.09322042970128587\n",
      "Val r2: -4.0868736550514484e-07\n"
     ]
    }
   ],
   "source": [
    "ml.LassoLars(X_train, y_train, baseline, X_val, y_val)"
   ]
  },
  {
   "cell_type": "markdown",
   "id": "7e406d80-9b89-41cf-bf3d-51668da0a9f5",
   "metadata": {},
   "source": [
    "<b><h3>Model 3: TweedieRegressor (GLM)"
   ]
  },
  {
   "cell_type": "code",
   "execution_count": 27,
   "id": "79a23c6a-f3e5-46c8-adbd-761d5844ecfa",
   "metadata": {},
   "outputs": [
    {
     "name": "stdout",
     "output_type": "stream",
     "text": [
      "RMSE for GLM\n",
      "_____________________\n",
      "Training/In-Sample: 0.10459286882123378, \n",
      "Validation/Out-of-Sample:  0.10428081628376401\n",
      "Difference:  -0.00031205253746977024\n",
      "Difference from baseline:  0.09321831628376401\n",
      "Val r2: 4.012329569591522e-05\n"
     ]
    }
   ],
   "source": [
    "ml.GLM(X_train, y_train, baseline, X_val, y_val)"
   ]
  },
  {
   "cell_type": "markdown",
   "id": "6e776a0d-c204-47db-8f2b-67fa4ba733b6",
   "metadata": {},
   "source": [
    "<b><h3>Model 4: Polynomial Regression"
   ]
  },
  {
   "cell_type": "code",
   "execution_count": 28,
   "id": "298913ac-4177-4e0b-a396-bea1dd4edc72",
   "metadata": {},
   "outputs": [
    {
     "name": "stdout",
     "output_type": "stream",
     "text": [
      "RMSE for Polynomial Regression\n",
      "    _____________________\n",
      "    Training/In-Sample: 0.10348938909044322, \n",
      "    Validation/Out-of-Sample:  0.10320762860348268\n",
      "    Difference:  -0.00028176048696054723\n",
      "    Difference from baseline:  0.09214512860348267\n",
      "    Val r2: 0.020516038597108377\n"
     ]
    }
   ],
   "source": [
    "ml.poly_model(X_train, y_train, baseline, X_val, y_val)"
   ]
  },
  {
   "cell_type": "markdown",
   "id": "532619bf-b0be-4390-9db6-3a68e8051fe3",
   "metadata": {
    "tags": []
   },
   "source": [
    "<b><h3>Final Best Model on Test Data: Polynomial Regression"
   ]
  },
  {
   "cell_type": "code",
   "execution_count": 29,
   "id": "88476cd1-cb5a-4cbb-893d-7b6ba013c66f",
   "metadata": {
    "tags": []
   },
   "outputs": [
    {
     "name": "stdout",
     "output_type": "stream",
     "text": [
      "RMSE & r2 for Polynomial Regression Test Model\n",
      "    _____________________\n",
      "    Baseline: 0.0110625\n",
      "    Training/In-Sample: 0.1031781186902778, \n",
      "    Validation/Out-of-Sample:  0.10290689523895138\n",
      "    Test/Out-of-Sample:  0.10269790390401642\n",
      "    Difference:  -0.00027122345132642167\n",
      "    Difference from baseline:  0.09184439523895138\n",
      "    Test r2: 0.02834663126873549\n"
     ]
    }
   ],
   "source": [
    "ml.poly_model_test(X_train, y_train, baseline, X_val, y_val, X_test, y_test)"
   ]
  },
  {
   "cell_type": "code",
   "execution_count": null,
   "id": "251526e3-7284-4831-be5d-5c341a3f6063",
   "metadata": {},
   "outputs": [],
   "source": []
  }
 ],
 "metadata": {
  "kernelspec": {
   "display_name": "Python 3 (ipykernel)",
   "language": "python",
   "name": "python3"
  },
  "language_info": {
   "codemirror_mode": {
    "name": "ipython",
    "version": 3
   },
   "file_extension": ".py",
   "mimetype": "text/x-python",
   "name": "python",
   "nbconvert_exporter": "python",
   "pygments_lexer": "ipython3",
   "version": "3.11.4"
  }
 },
 "nbformat": 4,
 "nbformat_minor": 5
}
