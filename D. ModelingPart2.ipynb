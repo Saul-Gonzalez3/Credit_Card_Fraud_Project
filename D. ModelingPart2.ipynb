{
 "cells": [
  {
   "cell_type": "markdown",
   "id": "56c05f08-ed7e-4445-81b5-cb3e57f07fee",
   "metadata": {},
   "source": [
    "<h1> Logistic Modeling"
   ]
  },
  {
   "cell_type": "code",
   "execution_count": 1,
   "id": "9ef73496-2754-4244-9420-6f462eb3a331",
   "metadata": {
    "tags": []
   },
   "outputs": [],
   "source": [
    "import numpy as np\n",
    "import pandas as pd\n",
    "\n",
    "from sklearn.model_selection import train_test_split\n",
    "from sklearn.linear_model import LogisticRegression\n",
    "from sklearn.metrics import classification_report\n",
    "from sklearn.metrics import confusion_matrix\n",
    "import sklearn.linear_model\n",
    "\n",
    "# ignore warnings\n",
    "import warnings\n",
    "warnings.filterwarnings(\"ignore\")\n",
    "\n",
    "import wrangle as wr\n",
    "import explore as ex\n",
    "import modeling as ml\n",
    "\n",
    "import matplotlib.pyplot as plt\n",
    "import seaborn as sns"
   ]
  },
  {
   "cell_type": "code",
   "execution_count": 2,
   "id": "0f0fd5bb-f088-4470-a02c-333c8f87ba77",
   "metadata": {
    "tags": []
   },
   "outputs": [
    {
     "data": {
      "text/html": [
       "<div>\n",
       "<style scoped>\n",
       "    .dataframe tbody tr th:only-of-type {\n",
       "        vertical-align: middle;\n",
       "    }\n",
       "\n",
       "    .dataframe tbody tr th {\n",
       "        vertical-align: top;\n",
       "    }\n",
       "\n",
       "    .dataframe thead th {\n",
       "        text-align: right;\n",
       "    }\n",
       "</style>\n",
       "<table border=\"1\" class=\"dataframe\">\n",
       "  <thead>\n",
       "    <tr style=\"text-align: right;\">\n",
       "      <th></th>\n",
       "      <th>fraud_bool</th>\n",
       "      <th>income</th>\n",
       "      <th>name_email_similarity</th>\n",
       "      <th>prev_address_months_count</th>\n",
       "      <th>current_address_months_count</th>\n",
       "      <th>customer_age</th>\n",
       "      <th>days_since_request</th>\n",
       "      <th>intended_balcon_amount</th>\n",
       "      <th>payment_type</th>\n",
       "      <th>zip_count_4w</th>\n",
       "      <th>...</th>\n",
       "      <th>has_other_cards</th>\n",
       "      <th>proposed_credit_limit</th>\n",
       "      <th>foreign_request</th>\n",
       "      <th>source</th>\n",
       "      <th>session_length_in_minutes</th>\n",
       "      <th>device_os</th>\n",
       "      <th>keep_alive_session</th>\n",
       "      <th>device_distinct_emails_8w</th>\n",
       "      <th>device_fraud_count</th>\n",
       "      <th>month</th>\n",
       "    </tr>\n",
       "  </thead>\n",
       "  <tbody>\n",
       "    <tr>\n",
       "      <th>0</th>\n",
       "      <td>0</td>\n",
       "      <td>0.3</td>\n",
       "      <td>0.986506</td>\n",
       "      <td>-1</td>\n",
       "      <td>25</td>\n",
       "      <td>40</td>\n",
       "      <td>0.006735</td>\n",
       "      <td>102.453711</td>\n",
       "      <td>AA</td>\n",
       "      <td>1059</td>\n",
       "      <td>...</td>\n",
       "      <td>0</td>\n",
       "      <td>1500.0</td>\n",
       "      <td>0</td>\n",
       "      <td>INTERNET</td>\n",
       "      <td>16.224843</td>\n",
       "      <td>linux</td>\n",
       "      <td>1</td>\n",
       "      <td>1</td>\n",
       "      <td>0</td>\n",
       "      <td>0</td>\n",
       "    </tr>\n",
       "    <tr>\n",
       "      <th>1</th>\n",
       "      <td>0</td>\n",
       "      <td>0.8</td>\n",
       "      <td>0.617426</td>\n",
       "      <td>-1</td>\n",
       "      <td>89</td>\n",
       "      <td>20</td>\n",
       "      <td>0.010095</td>\n",
       "      <td>-0.849551</td>\n",
       "      <td>AD</td>\n",
       "      <td>1658</td>\n",
       "      <td>...</td>\n",
       "      <td>0</td>\n",
       "      <td>1500.0</td>\n",
       "      <td>0</td>\n",
       "      <td>INTERNET</td>\n",
       "      <td>3.363854</td>\n",
       "      <td>other</td>\n",
       "      <td>1</td>\n",
       "      <td>1</td>\n",
       "      <td>0</td>\n",
       "      <td>0</td>\n",
       "    </tr>\n",
       "    <tr>\n",
       "      <th>2</th>\n",
       "      <td>0</td>\n",
       "      <td>0.8</td>\n",
       "      <td>0.996707</td>\n",
       "      <td>9</td>\n",
       "      <td>14</td>\n",
       "      <td>40</td>\n",
       "      <td>0.012316</td>\n",
       "      <td>-1.490386</td>\n",
       "      <td>AB</td>\n",
       "      <td>1095</td>\n",
       "      <td>...</td>\n",
       "      <td>0</td>\n",
       "      <td>200.0</td>\n",
       "      <td>0</td>\n",
       "      <td>INTERNET</td>\n",
       "      <td>22.730559</td>\n",
       "      <td>windows</td>\n",
       "      <td>0</td>\n",
       "      <td>1</td>\n",
       "      <td>0</td>\n",
       "      <td>0</td>\n",
       "    </tr>\n",
       "    <tr>\n",
       "      <th>3</th>\n",
       "      <td>0</td>\n",
       "      <td>0.6</td>\n",
       "      <td>0.475100</td>\n",
       "      <td>11</td>\n",
       "      <td>14</td>\n",
       "      <td>30</td>\n",
       "      <td>0.006991</td>\n",
       "      <td>-1.863101</td>\n",
       "      <td>AB</td>\n",
       "      <td>3483</td>\n",
       "      <td>...</td>\n",
       "      <td>0</td>\n",
       "      <td>200.0</td>\n",
       "      <td>0</td>\n",
       "      <td>INTERNET</td>\n",
       "      <td>15.215816</td>\n",
       "      <td>linux</td>\n",
       "      <td>1</td>\n",
       "      <td>1</td>\n",
       "      <td>0</td>\n",
       "      <td>0</td>\n",
       "    </tr>\n",
       "    <tr>\n",
       "      <th>4</th>\n",
       "      <td>0</td>\n",
       "      <td>0.9</td>\n",
       "      <td>0.842307</td>\n",
       "      <td>-1</td>\n",
       "      <td>29</td>\n",
       "      <td>40</td>\n",
       "      <td>5.742626</td>\n",
       "      <td>47.152498</td>\n",
       "      <td>AA</td>\n",
       "      <td>2339</td>\n",
       "      <td>...</td>\n",
       "      <td>0</td>\n",
       "      <td>200.0</td>\n",
       "      <td>0</td>\n",
       "      <td>INTERNET</td>\n",
       "      <td>3.743048</td>\n",
       "      <td>other</td>\n",
       "      <td>0</td>\n",
       "      <td>1</td>\n",
       "      <td>0</td>\n",
       "      <td>0</td>\n",
       "    </tr>\n",
       "  </tbody>\n",
       "</table>\n",
       "<p>5 rows × 32 columns</p>\n",
       "</div>"
      ],
      "text/plain": [
       "   fraud_bool  income  name_email_similarity  prev_address_months_count  \\\n",
       "0           0     0.3               0.986506                         -1   \n",
       "1           0     0.8               0.617426                         -1   \n",
       "2           0     0.8               0.996707                          9   \n",
       "3           0     0.6               0.475100                         11   \n",
       "4           0     0.9               0.842307                         -1   \n",
       "\n",
       "   current_address_months_count  customer_age  days_since_request  \\\n",
       "0                            25            40            0.006735   \n",
       "1                            89            20            0.010095   \n",
       "2                            14            40            0.012316   \n",
       "3                            14            30            0.006991   \n",
       "4                            29            40            5.742626   \n",
       "\n",
       "   intended_balcon_amount payment_type  zip_count_4w  ...  has_other_cards  \\\n",
       "0              102.453711           AA          1059  ...                0   \n",
       "1               -0.849551           AD          1658  ...                0   \n",
       "2               -1.490386           AB          1095  ...                0   \n",
       "3               -1.863101           AB          3483  ...                0   \n",
       "4               47.152498           AA          2339  ...                0   \n",
       "\n",
       "   proposed_credit_limit  foreign_request    source  \\\n",
       "0                 1500.0                0  INTERNET   \n",
       "1                 1500.0                0  INTERNET   \n",
       "2                  200.0                0  INTERNET   \n",
       "3                  200.0                0  INTERNET   \n",
       "4                  200.0                0  INTERNET   \n",
       "\n",
       "   session_length_in_minutes device_os  keep_alive_session  \\\n",
       "0                  16.224843     linux                   1   \n",
       "1                   3.363854     other                   1   \n",
       "2                  22.730559   windows                   0   \n",
       "3                  15.215816     linux                   1   \n",
       "4                   3.743048     other                   0   \n",
       "\n",
       "   device_distinct_emails_8w device_fraud_count  month  \n",
       "0                          1                  0      0  \n",
       "1                          1                  0      0  \n",
       "2                          1                  0      0  \n",
       "3                          1                  0      0  \n",
       "4                          1                  0      0  \n",
       "\n",
       "[5 rows x 32 columns]"
      ]
     },
     "execution_count": 2,
     "metadata": {},
     "output_type": "execute_result"
    }
   ],
   "source": [
    "df = pd.read_csv('Base.csv')\n",
    "df.head()"
   ]
  },
  {
   "cell_type": "code",
   "execution_count": 3,
   "id": "840c2ac8-d65c-443a-a5e5-45d6cc414b93",
   "metadata": {
    "tags": []
   },
   "outputs": [],
   "source": [
    "#Remove Outliers\n",
    "df = wr.remove_outliers(df, 4)"
   ]
  },
  {
   "cell_type": "code",
   "execution_count": 4,
   "id": "74a6f48c-6c58-40f1-8546-c0e7956068b7",
   "metadata": {
    "tags": []
   },
   "outputs": [
    {
     "name": "stdout",
     "output_type": "stream",
     "text": [
      "\n",
      "    train -> (399820, 32)\n",
      "    validate -> (171352, 32)\n",
      "    test -> (142794, 32)\n"
     ]
    }
   ],
   "source": [
    "#Split the Data\n",
    "train, validate, test = wr.split_data(df)"
   ]
  },
  {
   "cell_type": "code",
   "execution_count": 5,
   "id": "21a58476-948a-4325-bb69-645d0b34f88b",
   "metadata": {},
   "outputs": [
    {
     "name": "stdout",
     "output_type": "stream",
     "text": [
      "\n",
      "    train -> (399820, 51)\n",
      "    validate -> (171352, 51)\n",
      "    test -> (142794, 51)\n"
     ]
    }
   ],
   "source": [
    "train, validate, test = wr.prep_fraud_data(df)\n",
    "train_scaled, validate_scaled, test_scaled = wr.scale_fraud_data(train, validate, test)\n",
    "preprocessed_train, preprocessed_validate, preprocessed_test = train_scaled, validate_scaled, test_scaled\n",
    "X_train, y_train, X_val, y_val, X_test, y_test = ml.break_em_out(preprocessed_train, preprocessed_validate, preprocessed_test)"
   ]
  },
  {
   "cell_type": "code",
   "execution_count": 6,
   "id": "cbde4ab2-14b2-423a-bb04-f8f50ea92d55",
   "metadata": {
    "tags": []
   },
   "outputs": [],
   "source": [
    "# Separate out our X and y values\n",
    "X_train = train.drop(columns=[\"fraud_bool\"])\n",
    "y_train = train.fraud_bool\n",
    "\n",
    "X_validate = validate.drop(columns=[\"fraud_bool\"])\n",
    "y_validate = validate.fraud_bool\n",
    "\n",
    "X_test = test.drop(columns=[\"fraud_bool\"])\n",
    "y_test = test.fraud_bool"
   ]
  },
  {
   "cell_type": "markdown",
   "id": "7676f677-65bf-4cde-aed0-67d27f762e6e",
   "metadata": {},
   "source": [
    "<b>Establish a Baseline"
   ]
  },
  {
   "cell_type": "code",
   "execution_count": 7,
   "id": "d0bccc6c-c1d7-41a7-9090-8639bfdb83c5",
   "metadata": {
    "tags": []
   },
   "outputs": [
    {
     "data": {
      "text/plain": [
       "0    0.988577\n",
       "1    0.011423\n",
       "Name: fraud_bool, dtype: float64"
      ]
     },
     "execution_count": 7,
     "metadata": {},
     "output_type": "execute_result"
    }
   ],
   "source": [
    "# The most frequently observed outcome will be our baseline\n",
    "train.fraud_bool.value_counts(normalize=True)"
   ]
  },
  {
   "cell_type": "code",
   "execution_count": 8,
   "id": "27eedc22-d0cc-4b4b-b661-9a322f7bccd0",
   "metadata": {
    "tags": []
   },
   "outputs": [
    {
     "data": {
      "text/plain": [
       "0.9886"
      ]
     },
     "execution_count": 8,
     "metadata": {},
     "output_type": "execute_result"
    }
   ],
   "source": [
    "baseline_accuracy = (train.fraud_bool == 0).mean()\n",
    "round(baseline_accuracy, 4)"
   ]
  },
  {
   "cell_type": "markdown",
   "id": "dfcfe34b-34e7-44b3-b305-75d17d8aaa4b",
   "metadata": {},
   "source": [
    "<b><h3>Model 1 - Top 5 Ranked Features"
   ]
  },
  {
   "cell_type": "code",
   "execution_count": 16,
   "id": "29d5556b-dbae-4457-bed8-d743e329d32f",
   "metadata": {
    "tags": []
   },
   "outputs": [
    {
     "name": "stdout",
     "output_type": "stream",
     "text": [
      "Baseline is 0.99\n",
      "Logistic Regression using Customer Age, Credit Risk Score, Proposed Credit Limit, Deviced OS Encoded and Device OS Windows\n",
      "Accuracy of Logistic Regression classifier on training set: 0.9886\n",
      "Logit1 model using Customer Age, Credit Risk Score, Proposed Credit Limit, Deviced OS Encoded and Device OS Windows\n",
      "              precision    recall  f1-score   support\n",
      "\n",
      "           0       0.99      1.00      0.99    169359\n",
      "           1       0.00      0.00      0.00      1993\n",
      "\n",
      "    accuracy                           0.99    171352\n",
      "   macro avg       0.49      0.50      0.50    171352\n",
      "weighted avg       0.98      0.99      0.98    171352\n",
      "\n"
     ]
    }
   ],
   "source": [
    "# Create the logistic regression\n",
    "logit = LogisticRegression(random_state=123)\n",
    "\n",
    "# specify the features we're using\n",
    "features = ['customer_age', 'credit_risk_score', 'proposed_credit_limit','device_os_encoded', 'device_os_windows']\n",
    "\n",
    "# Fit a model using only these specified features\n",
    "# logit.fit(X_train[[\"age\", \"pclass\", \"fare\"]], y_train)\n",
    "logit.fit(X_train[features], y_train)\n",
    "\n",
    "# Since we .fit on a subset, we .predict on that same subset of features\n",
    "y_pred = logit.predict(X_train[features])\n",
    "y_pred1 = logit.predict(X_validate[features])\n",
    "print(\"Baseline is\", round(baseline_accuracy, 2))\n",
    "print(\"Logistic Regression using Customer Age, Credit Risk Score, Proposed Credit Limit, Deviced OS Encoded and Device OS Windows\")\n",
    "print('Accuracy of Logistic Regression classifier on training set: {:.4f}'\n",
    "     .format(logit.score(X_train[features], y_train)))\n",
    "print('Logit1 model using Customer Age, Credit Risk Score, Proposed Credit Limit, Deviced OS Encoded and Device OS Windows')\n",
    "print(classification_report(y_validate, y_pred1))"
   ]
  },
  {
   "cell_type": "code",
   "execution_count": null,
   "id": "9aaf0b12-d5f4-47a5-84ea-c40218a0853b",
   "metadata": {
    "tags": []
   },
   "outputs": [],
   "source": []
  },
  {
   "cell_type": "markdown",
   "id": "88831151-9de4-4e0a-bb88-94b33afb0da6",
   "metadata": {},
   "source": [
    "<b><h3>Model 2 - Top 10 Ranked Features"
   ]
  },
  {
   "cell_type": "code",
   "execution_count": 17,
   "id": "3968d945-d981-4618-8576-58cbe705cf8c",
   "metadata": {
    "tags": []
   },
   "outputs": [
    {
     "name": "stdout",
     "output_type": "stream",
     "text": [
      "Logistic Regression using the Top 10 features\n",
      "Accuracy of Logistic Regression classifier on training set: 0.9886\n",
      "Logit1 model using using the Top 10 features\n",
      "              precision    recall  f1-score   support\n",
      "\n",
      "           0       0.99      1.00      0.99    169359\n",
      "           1       0.00      0.00      0.00      1993\n",
      "\n",
      "    accuracy                           0.99    171352\n",
      "   macro avg       0.49      0.50      0.50    171352\n",
      "weighted avg       0.98      0.99      0.98    171352\n",
      "\n"
     ]
    }
   ],
   "source": [
    "# Create the logistic regression\n",
    "logit1 = LogisticRegression(random_state=123)\n",
    "\n",
    "# specify the features we're using\n",
    "features = ['income', 'name_email_similarity',\n",
    "       'prev_address_months_count', 'current_address_months_count',\n",
    "       'customer_age','date_of_birth_distinct_emails_4w', \n",
    "       'credit_risk_score', 'proposed_credit_limit', \n",
    "       'keep_alive_session',\n",
    "       'device_distinct_emails_8w']\n",
    "\n",
    "# Fit a model using only these specified features\n",
    "logit1.fit(X_train[features], y_train)\n",
    "\n",
    "y_pred = logit1.predict(X_train[features])\n",
    "y_pred1 = logit1.predict(X_validate[features])\n",
    "print(\"Logistic Regression using the Top 10 features\")\n",
    "print('Accuracy of Logistic Regression classifier on training set: {:.4f}'\n",
    "     .format(logit1.score(X_train[features], y_train)))\n",
    "print('Logit1 model using using the Top 10 features')\n",
    "print(classification_report(y_validate, y_pred1))"
   ]
  },
  {
   "cell_type": "code",
   "execution_count": null,
   "id": "c04f7300-5f1d-4b2d-88c4-7dab1cdab056",
   "metadata": {
    "tags": []
   },
   "outputs": [],
   "source": []
  },
  {
   "cell_type": "markdown",
   "id": "855272a1-2169-46c2-ad5e-af60e744c905",
   "metadata": {},
   "source": [
    "<b>Model 3 - All Features"
   ]
  },
  {
   "cell_type": "code",
   "execution_count": 18,
   "id": "e16f7816-1ecc-4c52-bb24-b5d4440b83ca",
   "metadata": {
    "tags": []
   },
   "outputs": [
    {
     "name": "stdout",
     "output_type": "stream",
     "text": [
      "Model trained on all features\n",
      "Accuracy of Logistic Regression classifier on training set: 0.9886\n",
      "Logit2 model using all features and all model defaults\n",
      "              precision    recall  f1-score   support\n",
      "\n",
      "           0       0.99      1.00      0.99    169359\n",
      "           1       0.00      0.00      0.00      1993\n",
      "\n",
      "    accuracy                           0.99    171352\n",
      "   macro avg       0.49      0.50      0.50    171352\n",
      "weighted avg       0.98      0.99      0.98    171352\n",
      "\n"
     ]
    }
   ],
   "source": [
    "# All features, all default hyperparameters\n",
    "logit2 = LogisticRegression(random_state=123)\n",
    "\n",
    "logit2.fit(X_train, y_train)\n",
    "\n",
    "y_pred = logit2.predict(X_train)\n",
    "y_pred1 = logit2.predict(X_validate)\n",
    "print(\"Model trained on all features\")\n",
    "print('Accuracy of Logistic Regression classifier on training set: {:.4f}'\n",
    "     .format(logit2.score(X_train, y_train)))\n",
    "print(\"Logit2 model using all features and all model defaults\")\n",
    "print(classification_report(y_validate, y_pred1))"
   ]
  },
  {
   "cell_type": "code",
   "execution_count": null,
   "id": "3bc5a453-a903-4920-80c9-5df621012933",
   "metadata": {
    "tags": []
   },
   "outputs": [],
   "source": []
  },
  {
   "cell_type": "code",
   "execution_count": 19,
   "id": "d4193f63-3e6c-4a2f-a971-a027117ad4a4",
   "metadata": {},
   "outputs": [
    {
     "name": "stdout",
     "output_type": "stream",
     "text": [
      "Logit1 model using Customer Age, Credit Risk Score, Proposed Credit Limit, Deviced OS Encoded and Device OS Windows\n",
      "              precision    recall  f1-score   support\n",
      "\n",
      "           0       0.99      1.00      0.99    141133\n",
      "           1       0.00      0.00      0.00      1661\n",
      "\n",
      "    accuracy                           0.99    142794\n",
      "   macro avg       0.49      0.50      0.50    142794\n",
      "weighted avg       0.98      0.99      0.98    142794\n",
      "\n"
     ]
    }
   ],
   "source": [
    "ml.eval_logit_on_Test(train, X_train, y_train, validate, X_val, y_val, test, X_test, y_test, baseline_accuracy)"
   ]
  },
  {
   "cell_type": "code",
   "execution_count": null,
   "id": "633e61be-efb0-4cfc-a6b0-10b9d7456f07",
   "metadata": {},
   "outputs": [],
   "source": []
  },
  {
   "cell_type": "code",
   "execution_count": null,
   "id": "aea1aa43-f941-4f80-b007-902d5892869f",
   "metadata": {},
   "outputs": [],
   "source": []
  },
  {
   "cell_type": "code",
   "execution_count": null,
   "id": "2727f095-0504-4bac-9f9a-cfe5114b7b6d",
   "metadata": {},
   "outputs": [],
   "source": []
  },
  {
   "cell_type": "code",
   "execution_count": null,
   "id": "33d5326b-312c-479f-8d1e-6d8283095965",
   "metadata": {},
   "outputs": [],
   "source": []
  }
 ],
 "metadata": {
  "kernelspec": {
   "display_name": "Python 3 (ipykernel)",
   "language": "python",
   "name": "python3"
  },
  "language_info": {
   "codemirror_mode": {
    "name": "ipython",
    "version": 3
   },
   "file_extension": ".py",
   "mimetype": "text/x-python",
   "name": "python",
   "nbconvert_exporter": "python",
   "pygments_lexer": "ipython3",
   "version": "3.11.4"
  }
 },
 "nbformat": 4,
 "nbformat_minor": 5
}
